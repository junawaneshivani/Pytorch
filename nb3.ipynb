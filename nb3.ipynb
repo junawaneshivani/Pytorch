{
  "nbformat": 4,
  "nbformat_minor": 0,
  "metadata": {
    "kernelspec": {
      "display_name": "Python 3",
      "language": "python",
      "name": "python3"
    },
    "language_info": {
      "codemirror_mode": {
        "name": "ipython",
        "version": 3
      },
      "file_extension": ".py",
      "mimetype": "text/x-python",
      "name": "python",
      "nbconvert_exporter": "python",
      "pygments_lexer": "ipython3",
      "version": "3.7.7"
    },
    "colab": {
      "name": "nb3.ipynb",
      "provenance": [],
      "include_colab_link": true
    }
  },
  "cells": [
    {
      "cell_type": "markdown",
      "metadata": {
        "id": "view-in-github",
        "colab_type": "text"
      },
      "source": [
        "<a href=\"https://colab.research.google.com/github/junawaneshivani/Pytorch/blob/master/nb3.ipynb\" target=\"_parent\"><img src=\"https://colab.research.google.com/assets/colab-badge.svg\" alt=\"Open In Colab\"/></a>"
      ]
    },
    {
      "cell_type": "markdown",
      "metadata": {
        "id": "Gt0ndFI10lnn",
        "colab_type": "text"
      },
      "source": [
        "# Linear Regression\n",
        "Reference - https://www.youtube.com/watch?v=E-I2DNVzQLg&list=PLqnslRFeH2UrcDBWF5mfPGpqQDSta6VK4&index=5"
      ]
    },
    {
      "cell_type": "code",
      "metadata": {
        "id": "X50gGN1Y0lno",
        "colab_type": "code",
        "colab": {}
      },
      "source": [
        "import torch\n",
        "\n",
        "X = torch.tensor([1, 2, 3, 4], dtype=torch.float32)\n",
        "y = torch.tensor([2, 4, 6, 8], dtype=torch.float32)\n",
        "\n",
        "w = torch.tensor(0.0, dtype=torch.float32, requires_grad=True)"
      ],
      "execution_count": null,
      "outputs": []
    },
    {
      "cell_type": "code",
      "metadata": {
        "id": "Ie3l3lF80lnt",
        "colab_type": "code",
        "colab": {}
      },
      "source": [
        "def forward(x):\n",
        "    return w * x"
      ],
      "execution_count": null,
      "outputs": []
    },
    {
      "cell_type": "code",
      "metadata": {
        "id": "rm_nVAy10lnv",
        "colab_type": "code",
        "colab": {}
      },
      "source": [
        "def loss(y, y_pred):\n",
        "    return ((y_pred-y)**2).mean()"
      ],
      "execution_count": null,
      "outputs": []
    },
    {
      "cell_type": "code",
      "metadata": {
        "id": "cpltzr-S0lny",
        "colab_type": "code",
        "colab": {},
        "outputId": "87c87d02-4ba4-4f7a-fb0d-c7715187f0c4"
      },
      "source": [
        "print(f'Prediction before training: forward[5] = {forward(5):.3f}')"
      ],
      "execution_count": null,
      "outputs": [
        {
          "output_type": "stream",
          "text": [
            "Prediction before training: forward[5] = 0.000\n"
          ],
          "name": "stdout"
        }
      ]
    },
    {
      "cell_type": "code",
      "metadata": {
        "id": "kMVbKtno0ln1",
        "colab_type": "code",
        "colab": {},
        "outputId": "e32e2f50-1476-4514-eafd-8312cd0f7bad"
      },
      "source": [
        "# Training\n",
        "\n",
        "learning_rate = 0.01\n",
        "EPOCHS = 20\n",
        "\n",
        "for epoch in range(EPOCHS):\n",
        "    y_pred = forward(X)         # forward pass\n",
        "    l = loss(y, y_pred)         # loss\n",
        "    l.backward()                # gradient calculation\n",
        "    \n",
        "    with torch.no_grad():       # this should no be part of the computation graph   \n",
        "        w -= learning_rate * w.grad\n",
        "    w.grad.zero_()    \n",
        "    \n",
        "    if epoch%2==0:\n",
        "        print(f'epoch {epoch+1}: w={w:.3f}, loss={l:.3f} ')"
      ],
      "execution_count": null,
      "outputs": [
        {
          "output_type": "stream",
          "text": [
            "epoch 1: w=1.987, loss=0.002 \n",
            "epoch 3: w=1.991, loss=0.001 \n",
            "epoch 5: w=1.993, loss=0.000 \n",
            "epoch 7: w=1.995, loss=0.000 \n",
            "epoch 9: w=1.996, loss=0.000 \n",
            "epoch 11: w=1.997, loss=0.000 \n",
            "epoch 13: w=1.998, loss=0.000 \n",
            "epoch 15: w=1.999, loss=0.000 \n",
            "epoch 17: w=1.999, loss=0.000 \n",
            "epoch 19: w=1.999, loss=0.000 \n"
          ],
          "name": "stdout"
        }
      ]
    },
    {
      "cell_type": "code",
      "metadata": {
        "id": "MVzk9w6R0ln4",
        "colab_type": "code",
        "colab": {},
        "outputId": "14057f73-8c7d-459a-e6a0-c2553a5d4977"
      },
      "source": [
        "print(f'Prediction after training: forward[5] = {forward(5):.3f}') "
      ],
      "execution_count": null,
      "outputs": [
        {
          "output_type": "stream",
          "text": [
            "Prediction after training: forward[5] = 9.997\n"
          ],
          "name": "stdout"
        }
      ]
    },
    {
      "cell_type": "code",
      "metadata": {
        "id": "OcO7OXAq0ln7",
        "colab_type": "code",
        "colab": {},
        "outputId": "94ea42b2-6e52-4b8b-9d29-7da069be82ad"
      },
      "source": [
        "# Training using in-built loss and optimizer functions\n",
        "\n",
        "loss = torch.nn.MSELoss()\n",
        "optimizer = torch.optim.SGD([w], lr=learning_rate)\n",
        "\n",
        "learning_rate = 0.01\n",
        "EPOCHS = 20\n",
        "\n",
        "for epoch in range(EPOCHS):\n",
        "    y_pred = forward(X)         # forward pass\n",
        "    l = loss(y, y_pred)         # loss\n",
        "    l.backward()                # gradient calculation\n",
        "    \n",
        "    with torch.no_grad():       # this should no be part of the computation graph   \n",
        "        w -= learning_rate * w.grad\n",
        "    w.grad.zero_()    \n",
        "    \n",
        "    if epoch%2==0:\n",
        "        print(f'epoch {epoch+1}: w={w:.3f}, loss={l:.3f} ')"
      ],
      "execution_count": null,
      "outputs": [
        {
          "output_type": "stream",
          "text": [
            "epoch 1: w=0.300, loss=30.000 \n",
            "epoch 3: w=0.772, loss=15.660 \n",
            "epoch 5: w=1.113, loss=8.175 \n",
            "epoch 7: w=1.359, loss=4.267 \n",
            "epoch 9: w=1.537, loss=2.228 \n",
            "epoch 11: w=1.665, loss=1.163 \n",
            "epoch 13: w=1.758, loss=0.607 \n",
            "epoch 15: w=1.825, loss=0.317 \n",
            "epoch 17: w=1.874, loss=0.165 \n",
            "epoch 19: w=1.909, loss=0.086 \n"
          ],
          "name": "stdout"
        }
      ]
    },
    {
      "cell_type": "code",
      "metadata": {
        "id": "jBMVxQmQ0ln9",
        "colab_type": "code",
        "colab": {},
        "outputId": "629bdaa2-af6b-47f2-e72d-bf64ad15a970"
      },
      "source": [
        "print(f'Prediction after training: forward[5] = {forward(5):.3f}') "
      ],
      "execution_count": null,
      "outputs": [
        {
          "output_type": "stream",
          "text": [
            "Prediction after training: forward[5] = 9.612\n"
          ],
          "name": "stdout"
        }
      ]
    },
    {
      "cell_type": "code",
      "metadata": {
        "id": "5oxH4zyg0ln_",
        "colab_type": "code",
        "colab": {},
        "outputId": "7ad77915-0ec5-4e2b-f5b3-7b9eba155e7f"
      },
      "source": [
        "# Training using in-built loss and optimizer functions\n",
        "\n",
        "X = torch.tensor([[1], [2], [3], [4]], dtype=torch.float32)\n",
        "y = torch.tensor([[2], [4], [6], [8]], dtype=torch.float32)\n",
        "\n",
        "input_size, output_size = X.shape[1], y.shape[1]\n",
        "model = torch.nn.Linear(input_size, output_size)\n",
        "loss = torch.nn.MSELoss()\n",
        "optimizer = torch.optim.SGD(model.parameters(), lr=learning_rate)\n",
        "\n",
        "learning_rate = 0.01\n",
        "EPOCHS = 50\n",
        "\n",
        "for epoch in range(EPOCHS):\n",
        "    y_pred = model(X)         # forward pass\n",
        "    l = loss(y, y_pred)         # loss\n",
        "    l.backward()                # gradient calculation\n",
        "    \n",
        "    optimizer.step()\n",
        "    optimizer.zero_grad()    \n",
        "    \n",
        "    if epoch%5==0:\n",
        "        [w, b] = model.parameters()\n",
        "        print(f'epoch {epoch+1}: w={w[0][0]:.3f}, loss={l:.3f} ')"
      ],
      "execution_count": null,
      "outputs": [
        {
          "output_type": "stream",
          "text": [
            "epoch 1: w=0.468, loss=20.663 \n",
            "epoch 6: w=1.213, loss=3.426 \n",
            "epoch 11: w=1.514, loss=0.651 \n",
            "epoch 16: w=1.638, loss=0.201 \n",
            "epoch 21: w=1.690, loss=0.126 \n",
            "epoch 26: w=1.713, loss=0.111 \n",
            "epoch 31: w=1.725, loss=0.106 \n",
            "epoch 36: w=1.732, loss=0.103 \n",
            "epoch 41: w=1.737, loss=0.100 \n",
            "epoch 46: w=1.742, loss=0.097 \n"
          ],
          "name": "stdout"
        }
      ]
    },
    {
      "cell_type": "code",
      "metadata": {
        "id": "eOPQaKaV0loC",
        "colab_type": "code",
        "colab": {},
        "outputId": "ad3ffae3-c3c5-4370-9453-1b0a5aa4562c"
      },
      "source": [
        "X_test = torch.tensor([5], dtype=torch.float32)\n",
        "print(f'Prediction after training: forward[5] = {model(X_test).item():.3f}') "
      ],
      "execution_count": null,
      "outputs": [
        {
          "output_type": "stream",
          "text": [
            "Prediction after training: forward[5] = 9.474\n"
          ],
          "name": "stdout"
        }
      ]
    },
    {
      "cell_type": "code",
      "metadata": {
        "id": "Ne8c3gqC0loE",
        "colab_type": "code",
        "colab": {},
        "outputId": "69797607-c90a-4f3e-e4f2-d9c1a8b119e6"
      },
      "source": [
        "# Training using nn class\n",
        "\n",
        "X = torch.tensor([[1], [2], [3], [4]], dtype=torch.float32)\n",
        "y = torch.tensor([[2], [4], [6], [8]], dtype=torch.float32)\n",
        "\n",
        "class LinearRegression(torch.nn.Module):\n",
        "    \n",
        "    def __init__(self, input_dim, output_dim):\n",
        "        super(LinearRegression, self).__init__()\n",
        "        \n",
        "        self.linear = torch.nn.Linear(input_dim, output_dim)\n",
        "        \n",
        "    def forward(self, x):\n",
        "        return self.linear(x)\n",
        "    \n",
        "\n",
        "input_size, output_size = X.shape[1], y.shape[1]\n",
        "model = LinearRegression(input_size, output_size)\n",
        "loss = torch.nn.MSELoss()\n",
        "optimizer = torch.optim.SGD(model.parameters(), lr=learning_rate)\n",
        "\n",
        "learning_rate = 0.01\n",
        "EPOCHS = 100\n",
        "\n",
        "for epoch in range(EPOCHS):\n",
        "    y_pred = model(X)           # forward pass\n",
        "    l = loss(y, y_pred)         # loss\n",
        "    l.backward()                # gradient calculation\n",
        "    \n",
        "    optimizer.step()\n",
        "    optimizer.zero_grad()    \n",
        "    \n",
        "    if epoch%10==0:\n",
        "        [w, b] = model.parameters()\n",
        "        print(f'epoch {epoch+1}: w={w[0][0]:.3f}, loss={l:.3f} ')"
      ],
      "execution_count": null,
      "outputs": [
        {
          "output_type": "stream",
          "text": [
            "epoch 1: w=0.495, loss=19.567 \n",
            "epoch 11: w=1.514, loss=0.627 \n",
            "epoch 21: w=1.685, loss=0.130 \n",
            "epoch 31: w=1.719, loss=0.111 \n",
            "epoch 41: w=1.732, loss=0.104 \n",
            "epoch 51: w=1.740, loss=0.098 \n",
            "epoch 61: w=1.748, loss=0.092 \n",
            "epoch 71: w=1.755, loss=0.087 \n",
            "epoch 81: w=1.763, loss=0.082 \n",
            "epoch 91: w=1.770, loss=0.077 \n"
          ],
          "name": "stdout"
        }
      ]
    },
    {
      "cell_type": "code",
      "metadata": {
        "id": "UHQvYW8D0loH",
        "colab_type": "code",
        "colab": {},
        "outputId": "6d87ad07-2a6e-402b-cd15-49604ec2b065"
      },
      "source": [
        "X_test = torch.tensor([5], dtype=torch.float32)\n",
        "print(f'Prediction after training: forward[5] = {model(X_test).item():.3f}') "
      ],
      "execution_count": null,
      "outputs": [
        {
          "output_type": "stream",
          "text": [
            "Prediction after training: forward[5] = 9.559\n"
          ],
          "name": "stdout"
        }
      ]
    },
    {
      "cell_type": "code",
      "metadata": {
        "id": "8wvr9ey70loJ",
        "colab_type": "code",
        "colab": {}
      },
      "source": [
        ""
      ],
      "execution_count": null,
      "outputs": []
    }
  ]
}