{
 "cells": [
  {
   "cell_type": "markdown",
   "metadata": {},
   "source": [
    "# Linear Regression\n",
    "Reference - https://www.youtube.com/watch?v=E-I2DNVzQLg&list=PLqnslRFeH2UrcDBWF5mfPGpqQDSta6VK4&index=5"
   ]
  },
  {
   "cell_type": "code",
   "execution_count": 81,
   "metadata": {},
   "outputs": [],
   "source": [
    "import torch\n",
    "\n",
    "X = torch.tensor([1, 2, 3, 4], dtype=torch.float32)\n",
    "y = torch.tensor([2, 4, 6, 8], dtype=torch.float32)\n",
    "\n",
    "w = torch.tensor(0.0, dtype=torch.float32, requires_grad=True)"
   ]
  },
  {
   "cell_type": "code",
   "execution_count": 63,
   "metadata": {},
   "outputs": [],
   "source": [
    "def forward(x):\n",
    "    return w * x"
   ]
  },
  {
   "cell_type": "code",
   "execution_count": 64,
   "metadata": {},
   "outputs": [],
   "source": [
    "def loss(y, y_pred):\n",
    "    return ((y_pred-y)**2).mean()"
   ]
  },
  {
   "cell_type": "code",
   "execution_count": 65,
   "metadata": {},
   "outputs": [
    {
     "name": "stdout",
     "output_type": "stream",
     "text": [
      "Prediction before training: forward[5] = 0.000\n"
     ]
    }
   ],
   "source": [
    "print(f'Prediction before training: forward[5] = {forward(5):.3f}')"
   ]
  },
  {
   "cell_type": "code",
   "execution_count": 68,
   "metadata": {},
   "outputs": [
    {
     "name": "stdout",
     "output_type": "stream",
     "text": [
      "epoch 1: w=1.987, loss=0.002 \n",
      "epoch 3: w=1.991, loss=0.001 \n",
      "epoch 5: w=1.993, loss=0.000 \n",
      "epoch 7: w=1.995, loss=0.000 \n",
      "epoch 9: w=1.996, loss=0.000 \n",
      "epoch 11: w=1.997, loss=0.000 \n",
      "epoch 13: w=1.998, loss=0.000 \n",
      "epoch 15: w=1.999, loss=0.000 \n",
      "epoch 17: w=1.999, loss=0.000 \n",
      "epoch 19: w=1.999, loss=0.000 \n"
     ]
    }
   ],
   "source": [
    "# Training\n",
    "\n",
    "learning_rate = 0.01\n",
    "EPOCHS = 20\n",
    "\n",
    "for epoch in range(EPOCHS):\n",
    "    y_pred = forward(X)         # forward pass\n",
    "    l = loss(y, y_pred)         # loss\n",
    "    l.backward()                # gradient calculation\n",
    "    \n",
    "    with torch.no_grad():       # this should no be part of the computation graph   \n",
    "        w -= learning_rate * w.grad\n",
    "    w.grad.zero_()    \n",
    "    \n",
    "    if epoch%2==0:\n",
    "        print(f'epoch {epoch+1}: w={w:.3f}, loss={l:.3f} ')"
   ]
  },
  {
   "cell_type": "code",
   "execution_count": 69,
   "metadata": {},
   "outputs": [
    {
     "name": "stdout",
     "output_type": "stream",
     "text": [
      "Prediction after training: forward[5] = 9.997\n"
     ]
    }
   ],
   "source": [
    "print(f'Prediction after training: forward[5] = {forward(5):.3f}') "
   ]
  },
  {
   "cell_type": "code",
   "execution_count": 83,
   "metadata": {},
   "outputs": [
    {
     "name": "stdout",
     "output_type": "stream",
     "text": [
      "epoch 1: w=0.300, loss=30.000 \n",
      "epoch 3: w=0.772, loss=15.660 \n",
      "epoch 5: w=1.113, loss=8.175 \n",
      "epoch 7: w=1.359, loss=4.267 \n",
      "epoch 9: w=1.537, loss=2.228 \n",
      "epoch 11: w=1.665, loss=1.163 \n",
      "epoch 13: w=1.758, loss=0.607 \n",
      "epoch 15: w=1.825, loss=0.317 \n",
      "epoch 17: w=1.874, loss=0.165 \n",
      "epoch 19: w=1.909, loss=0.086 \n"
     ]
    }
   ],
   "source": [
    "# Training using in-built loss and optimizer functions\n",
    "\n",
    "loss = torch.nn.MSELoss()\n",
    "optimizer = torch.optim.SGD([w], lr=learning_rate)\n",
    "\n",
    "learning_rate = 0.01\n",
    "EPOCHS = 20\n",
    "\n",
    "for epoch in range(EPOCHS):\n",
    "    y_pred = forward(X)         # forward pass\n",
    "    l = loss(y, y_pred)         # loss\n",
    "    l.backward()                # gradient calculation\n",
    "    \n",
    "    with torch.no_grad():       # this should no be part of the computation graph   \n",
    "        w -= learning_rate * w.grad\n",
    "    w.grad.zero_()    \n",
    "    \n",
    "    if epoch%2==0:\n",
    "        print(f'epoch {epoch+1}: w={w:.3f}, loss={l:.3f} ')"
   ]
  },
  {
   "cell_type": "code",
   "execution_count": 85,
   "metadata": {},
   "outputs": [
    {
     "name": "stdout",
     "output_type": "stream",
     "text": [
      "Prediction after training: forward[5] = 9.612\n"
     ]
    }
   ],
   "source": [
    "print(f'Prediction after training: forward[5] = {forward(5):.3f}') "
   ]
  },
  {
   "cell_type": "code",
   "execution_count": 114,
   "metadata": {},
   "outputs": [
    {
     "name": "stdout",
     "output_type": "stream",
     "text": [
      "epoch 1: w=0.468, loss=20.663 \n",
      "epoch 6: w=1.213, loss=3.426 \n",
      "epoch 11: w=1.514, loss=0.651 \n",
      "epoch 16: w=1.638, loss=0.201 \n",
      "epoch 21: w=1.690, loss=0.126 \n",
      "epoch 26: w=1.713, loss=0.111 \n",
      "epoch 31: w=1.725, loss=0.106 \n",
      "epoch 36: w=1.732, loss=0.103 \n",
      "epoch 41: w=1.737, loss=0.100 \n",
      "epoch 46: w=1.742, loss=0.097 \n"
     ]
    }
   ],
   "source": [
    "# Training using in-built loss and optimizer functions\n",
    "\n",
    "X = torch.tensor([[1], [2], [3], [4]], dtype=torch.float32)\n",
    "y = torch.tensor([[2], [4], [6], [8]], dtype=torch.float32)\n",
    "\n",
    "input_size, output_size = X.shape[1], y.shape[1]\n",
    "model = torch.nn.Linear(input_size, output_size)\n",
    "loss = torch.nn.MSELoss()\n",
    "optimizer = torch.optim.SGD(model.parameters(), lr=learning_rate)\n",
    "\n",
    "learning_rate = 0.01\n",
    "EPOCHS = 50\n",
    "\n",
    "for epoch in range(EPOCHS):\n",
    "    y_pred = model(X)         # forward pass\n",
    "    l = loss(y, y_pred)         # loss\n",
    "    l.backward()                # gradient calculation\n",
    "    \n",
    "    optimizer.step()\n",
    "    optimizer.zero_grad()    \n",
    "    \n",
    "    if epoch%5==0:\n",
    "        [w, b] = model.parameters()\n",
    "        print(f'epoch {epoch+1}: w={w[0][0]:.3f}, loss={l:.3f} ')"
   ]
  },
  {
   "cell_type": "code",
   "execution_count": 115,
   "metadata": {},
   "outputs": [
    {
     "name": "stdout",
     "output_type": "stream",
     "text": [
      "Prediction after training: forward[5] = 9.474\n"
     ]
    }
   ],
   "source": [
    "X_test = torch.tensor([5], dtype=torch.float32)\n",
    "print(f'Prediction after training: forward[5] = {model(X_test).item():.3f}') "
   ]
  },
  {
   "cell_type": "code",
   "execution_count": 109,
   "metadata": {},
   "outputs": [
    {
     "name": "stdout",
     "output_type": "stream",
     "text": [
      "epoch 1: w=0.495, loss=19.567 \n",
      "epoch 11: w=1.514, loss=0.627 \n",
      "epoch 21: w=1.685, loss=0.130 \n",
      "epoch 31: w=1.719, loss=0.111 \n",
      "epoch 41: w=1.732, loss=0.104 \n",
      "epoch 51: w=1.740, loss=0.098 \n",
      "epoch 61: w=1.748, loss=0.092 \n",
      "epoch 71: w=1.755, loss=0.087 \n",
      "epoch 81: w=1.763, loss=0.082 \n",
      "epoch 91: w=1.770, loss=0.077 \n"
     ]
    }
   ],
   "source": [
    "# Training using nn class\n",
    "\n",
    "X = torch.tensor([[1], [2], [3], [4]], dtype=torch.float32)\n",
    "y = torch.tensor([[2], [4], [6], [8]], dtype=torch.float32)\n",
    "\n",
    "class LinearRegression(torch.nn.Module):\n",
    "    \n",
    "    def __init__(self, input_dim, output_dim):\n",
    "        super(LinearRegression, self).__init__()\n",
    "        \n",
    "        self.linear = torch.nn.Linear(input_dim, output_dim)\n",
    "        \n",
    "    def forward(self, x):\n",
    "        return self.linear(x)\n",
    "    \n",
    "\n",
    "input_size, output_size = X.shape[1], y.shape[1]\n",
    "model = LinearRegression(input_size, output_size)\n",
    "loss = torch.nn.MSELoss()\n",
    "optimizer = torch.optim.SGD(model.parameters(), lr=learning_rate)\n",
    "\n",
    "learning_rate = 0.01\n",
    "EPOCHS = 100\n",
    "\n",
    "for epoch in range(EPOCHS):\n",
    "    y_pred = model(X)           # forward pass\n",
    "    l = loss(y, y_pred)         # loss\n",
    "    l.backward()                # gradient calculation\n",
    "    \n",
    "    optimizer.step()\n",
    "    optimizer.zero_grad()    \n",
    "    \n",
    "    if epoch%10==0:\n",
    "        [w, b] = model.parameters()\n",
    "        print(f'epoch {epoch+1}: w={w[0][0]:.3f}, loss={l:.3f} ')"
   ]
  },
  {
   "cell_type": "code",
   "execution_count": 108,
   "metadata": {},
   "outputs": [
    {
     "name": "stdout",
     "output_type": "stream",
     "text": [
      "Prediction after training: forward[5] = 9.559\n"
     ]
    }
   ],
   "source": [
    "X_test = torch.tensor([5], dtype=torch.float32)\n",
    "print(f'Prediction after training: forward[5] = {model(X_test).item():.3f}') "
   ]
  },
  {
   "cell_type": "code",
   "execution_count": null,
   "metadata": {},
   "outputs": [],
   "source": []
  }
 ],
 "metadata": {
  "kernelspec": {
   "display_name": "Python 3",
   "language": "python",
   "name": "python3"
  },
  "language_info": {
   "codemirror_mode": {
    "name": "ipython",
    "version": 3
   },
   "file_extension": ".py",
   "mimetype": "text/x-python",
   "name": "python",
   "nbconvert_exporter": "python",
   "pygments_lexer": "ipython3",
   "version": "3.7.7"
  }
 },
 "nbformat": 4,
 "nbformat_minor": 4
}
