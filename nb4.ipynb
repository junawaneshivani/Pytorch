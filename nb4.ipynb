{
  "nbformat": 4,
  "nbformat_minor": 0,
  "metadata": {
    "kernelspec": {
      "display_name": "Python 3",
      "language": "python",
      "name": "python3"
    },
    "language_info": {
      "codemirror_mode": {
        "name": "ipython",
        "version": 3
      },
      "file_extension": ".py",
      "mimetype": "text/x-python",
      "name": "python",
      "nbconvert_exporter": "python",
      "pygments_lexer": "ipython3",
      "version": "3.7.7"
    },
    "colab": {
      "name": "nb4.ipynb",
      "provenance": [],
      "include_colab_link": true
    }
  },
  "cells": [
    {
      "cell_type": "markdown",
      "metadata": {
        "id": "view-in-github",
        "colab_type": "text"
      },
      "source": [
        "<a href=\"https://colab.research.google.com/github/junawaneshivani/Pytorch/blob/master/nb4.ipynb\" target=\"_parent\"><img src=\"https://colab.research.google.com/assets/colab-badge.svg\" alt=\"Open In Colab\"/></a>"
      ]
    },
    {
      "cell_type": "markdown",
      "metadata": {
        "id": "5O1lNzPK72uF",
        "colab_type": "text"
      },
      "source": [
        "# Logistic Regression\n",
        "\n",
        "Reference - https://www.youtube.com/watch?v=OGpQxIkR4ao&list=PLqnslRFeH2UrcDBWF5mfPGpqQDSta6VK4&index=8"
      ]
    },
    {
      "cell_type": "code",
      "metadata": {
        "id": "wBNerHrN72uG",
        "colab_type": "code",
        "colab": {}
      },
      "source": [
        "import torch\n",
        "\n",
        "# pre-processing\n",
        "import numpy as np\n",
        "from sklearn import datasets\n",
        "from sklearn.preprocessing import StandardScaler\n",
        "from sklearn.model_selection import train_test_split\n",
        "\n",
        "dataset = datasets.load_breast_cancer()\n",
        "X, y = dataset.data, dataset.target\n",
        "n_sample, n_features = X.shape\n",
        "\n",
        "X_train, X_test, y_train, y_test = train_test_split(X, y, test_size=0.2, random_state=True)\n",
        "\n",
        "X_train = StandardScaler().fit_transform(X_train)\n",
        "X_test  = StandardScaler().fit_transform(X_test)\n",
        "\n",
        "X_train = torch.from_numpy(X_train.astype(np.float32))\n",
        "y_train = torch.from_numpy(y_train.astype(np.float32))\n",
        "X_test  = torch.from_numpy(X_test.astype(np.float32))\n",
        "y_test  = torch.from_numpy(y_test.astype(np.float32))\n",
        "\n",
        "y_train = y_train.view(y_train.shape[0], 1)\n",
        "y_test  = y_test.view(y_test.shape[0], 1)"
      ],
      "execution_count": 35,
      "outputs": []
    },
    {
      "cell_type": "code",
      "metadata": {
        "id": "7lv_N_lo8Tu7",
        "colab_type": "code",
        "colab": {}
      },
      "source": [
        "# define model\n",
        "class LogisticRegression(torch.nn.Module):\n",
        "\n",
        "    def __init__(self, n_input_features):\n",
        "        super(LogisticRegression, self).__init__()\n",
        "        self.linear = torch.nn.Linear(n_input_features, 1)\n",
        "\n",
        "    def forward(self, x):\n",
        "        return torch.sigmoid(self.linear(x))"
      ],
      "execution_count": 39,
      "outputs": []
    },
    {
      "cell_type": "code",
      "metadata": {
        "id": "YvJHQCrq_tUz",
        "colab_type": "code",
        "colab": {}
      },
      "source": [
        "learning_rate = 0.01\n",
        "model = LogisticRegression(n_features)\n",
        "loss = torch.nn.BCELoss()\n",
        "optimizer = torch.optim.SGD(model.parameters(), lr=learning_rate)"
      ],
      "execution_count": 37,
      "outputs": []
    },
    {
      "cell_type": "code",
      "metadata": {
        "id": "TSr0IjIpAErO",
        "colab_type": "code",
        "colab": {
          "base_uri": "https://localhost:8080/",
          "height": 204
        },
        "outputId": "23945427-7b29-4d19-d4b6-31278b2abbf1"
      },
      "source": [
        "EPOCHS = 100\n",
        "for epoch in range(EPOCHS):\n",
        "    y_pred = model(X_train)\n",
        "    l = loss(y_pred, y_train)\n",
        "    l.backward()\n",
        "    optimizer.step()\n",
        "    optimizer.zero_grad()\n",
        "\n",
        "    if (epoch+1)%10==0:\n",
        "        print(f'epoch: {epoch+1}, loss={l.item():.4f}')\n",
        "\n",
        "with torch.no_grad():\n",
        "    y_pred_test = model(X_test)\n",
        "    y_pred_test_cls = y_pred_test.round()\n",
        "    acc = y_pred_test_cls.eq(y_test).sum() / float(y_test.shape[0])\n",
        "    print(f'Accuracy: {acc:.2f}')\n",
        "                                                   "
      ],
      "execution_count": 38,
      "outputs": [
        {
          "output_type": "stream",
          "text": [
            "epoch: 10, loss=0.7021\n",
            "epoch: 20, loss=0.5465\n",
            "epoch: 30, loss=0.4561\n",
            "epoch: 40, loss=0.3978\n",
            "epoch: 50, loss=0.3569\n",
            "epoch: 60, loss=0.3266\n",
            "epoch: 70, loss=0.3031\n",
            "epoch: 80, loss=0.2843\n",
            "epoch: 90, loss=0.2689\n",
            "epoch: 100, loss=0.2559\n",
            "Accuracy: 0.96\n"
          ],
          "name": "stdout"
        }
      ]
    },
    {
      "cell_type": "code",
      "metadata": {
        "id": "LQ4nyBzVCKW2",
        "colab_type": "code",
        "colab": {}
      },
      "source": [
        ""
      ],
      "execution_count": null,
      "outputs": []
    }
  ]
}