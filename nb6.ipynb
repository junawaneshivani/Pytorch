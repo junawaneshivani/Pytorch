{
  "nbformat": 4,
  "nbformat_minor": 0,
  "metadata": {
    "colab": {
      "name": "nb6.ipynb",
      "provenance": [],
      "collapsed_sections": [],
      "authorship_tag": "ABX9TyOV1tMDa0azfl+Q9E0IusWm",
      "include_colab_link": true
    },
    "kernelspec": {
      "name": "python3",
      "display_name": "Python 3"
    }
  },
  "cells": [
    {
      "cell_type": "markdown",
      "metadata": {
        "id": "view-in-github",
        "colab_type": "text"
      },
      "source": [
        "<a href=\"https://colab.research.google.com/github/junawaneshivani/Pytorch/blob/master/nb6.ipynb\" target=\"_parent\"><img src=\"https://colab.research.google.com/assets/colab-badge.svg\" alt=\"Open In Colab\"/></a>"
      ]
    },
    {
      "cell_type": "markdown",
      "metadata": {
        "id": "HqNC8da1UmbS",
        "colab_type": "text"
      },
      "source": [
        "# Convolutional Neural Networks "
      ]
    },
    {
      "cell_type": "code",
      "metadata": {
        "id": "UMiJr0teUyuy",
        "colab_type": "code",
        "colab": {}
      },
      "source": [
        "import torch\n",
        "import torch.nn as nn\n",
        "import torch.nn.functional as F\n",
        "\n",
        "import torchvision\n",
        "import torchvision.datasets as datasets\n",
        "import torchvision.transforms as transforms\n",
        "\n",
        "import matplotlib.pyplot as plt\n",
        "import numpy as np\n",
        "\n",
        "device = torch.device(\"cuda\" if torch.cuda.is_available() else \"cpu\")"
      ],
      "execution_count": 1,
      "outputs": []
    },
    {
      "cell_type": "code",
      "metadata": {
        "id": "KdHQnjrvYrJQ",
        "colab_type": "code",
        "colab": {}
      },
      "source": [
        "num_epochs = 4\n",
        "batch_size = 100\n",
        "learning_rate = 0.01"
      ],
      "execution_count": 2,
      "outputs": []
    },
    {
      "cell_type": "code",
      "metadata": {
        "id": "7dnE7VW3WhWJ",
        "colab_type": "code",
        "colab": {}
      },
      "source": [
        "transform = transforms.Compose([\n",
        "    transforms.ToTensor(),\n",
        "])\n",
        "\n",
        "train_dataset = torchvision.datasets.FashionMNIST(root=\"./data\", train=True, download=True, transform=transform)\n",
        "test_dataset = torchvision.datasets.FashionMNIST(root=\"./data\", train=False, download=True, transform=transform)\n",
        "\n",
        "train_loader = torch.utils.data.DataLoader(train_dataset, batch_size=batch_size, shuffle=True)\n",
        "test_loader = torch.utils.data.DataLoader(test_dataset, batch_size=batch_size, shuffle=False)"
      ],
      "execution_count": 3,
      "outputs": []
    },
    {
      "cell_type": "code",
      "metadata": {
        "id": "ak2wogJmWizu",
        "colab_type": "code",
        "colab": {}
      },
      "source": [
        "classes = ('t-shirt', 'trouser', 'pullover', 'dress', 'coat',\n",
        "           'scandal', 'shirt', 'sneaker', 'bag', 'ankle boot')"
      ],
      "execution_count": 4,
      "outputs": []
    },
    {
      "cell_type": "code",
      "metadata": {
        "id": "TpAv7uJ6qBll",
        "colab_type": "code",
        "colab": {
          "base_uri": "https://localhost:8080/",
          "height": 298
        },
        "outputId": "b5755441-4010-401b-f1ad-025e45c64b5c"
      },
      "source": [
        "images, labels = next(iter(train_loader))\n",
        "print(images.shape)\n",
        "for i in range(6):\n",
        "    plt.subplot(2, 3, i+1)\n",
        "    plt.imshow(images[i][0], cmap='gray')\n",
        "    plt.title(classes[labels[i].item()])\n",
        "    plt.xticks(color='w')\n",
        "    plt.yticks(color='w')\n",
        "plt.show()"
      ],
      "execution_count": 5,
      "outputs": [
        {
          "output_type": "stream",
          "text": [
            "torch.Size([100, 1, 28, 28])\n"
          ],
          "name": "stdout"
        },
        {
          "output_type": "display_data",
          "data": {
            "image/png": "[encoded data removed]",
            "text/plain": [
              "<Figure size 432x288 with 6 Axes>"
            ]
          },
          "metadata": {
            "tags": [],
            "needs_background": "dark"
          }
        }
      ]
    },
    {
      "cell_type": "code",
      "metadata": {
        "id": "LKrBXMf_ZIlD",
        "colab_type": "code",
        "colab": {}
      },
      "source": [
        " class ConvNet(nn.Module):\n",
        "    def __init__(self):\n",
        "        super(ConvNet, self).__init__()\n",
        "\n",
        "        # 1, 28, 28 -> 6, 24, 24 -> max_pool2d(kernel[2, 2]) -> 6, 12, 12\n",
        "        self.conv1 = nn.Conv2d(in_channels=1, out_channels=6, kernel_size=5) \n",
        "        \n",
        "        # 6, 12, 12 -> 12, 8, 8 -> max_pool2d(kernel[2, 2]) -> 12, 4, 4\n",
        "        self.conv2 = nn.Conv2d(in_channels=6, out_channels=12, kernel_size=5)\n",
        "        \n",
        "        self.fc1 = nn.Linear(in_features=12*4*4 , out_features=120)\n",
        "        self.fc2 = nn.Linear(in_features=120 , out_features=60)\n",
        "        self.out = nn.Linear(in_features=60 , out_features=10)\n",
        "    \n",
        "    def forward(self, x):\n",
        "        x = F.max_pool2d(F.relu(self.conv1(x)), kernel_size=2, stride=2)\n",
        "        x = F.max_pool2d(F.relu(self.conv2(x)), kernel_size=2, stride=2)\n",
        "\n",
        "        x = x.reshape(-1, 12 * 4 * 4)\n",
        "        x = F.relu(self.fc1(x))\n",
        "        x = F.relu(self.fc2(x))\n",
        "        x = self.out(x)\n",
        "        # no softmax because crosentropyloss function calculates it\n",
        "        \n",
        "        return x"
      ],
      "execution_count": 6,
      "outputs": []
    },
    {
      "cell_type": "code",
      "metadata": {
        "id": "-MhcZ0ErZeAo",
        "colab_type": "code",
        "colab": {}
      },
      "source": [
        "model = ConvNet().to(device)\n",
        "\n",
        "criterion = nn.CrossEntropyLoss()\n",
        "optimizer = torch.optim.SGD(model.parameters(), lr=learning_rate)"
      ],
      "execution_count": 7,
      "outputs": []
    },
    {
      "cell_type": "code",
      "metadata": {
        "id": "lLXEY0LaZwzf",
        "colab_type": "code",
        "colab": {
          "base_uri": "https://localhost:8080/",
          "height": 437
        },
        "outputId": "6da8c439-1d7d-44ef-db28-f4a7d2ad2e22"
      },
      "source": [
        "total_steps = len(train_loader)\n",
        "for epoch in range(num_epochs):\n",
        "    for i, (images, labels) in enumerate(train_loader):\n",
        "        images = images.to(device)\n",
        "        labels = labels.to(device)\n",
        "\n",
        "        # forward pass\n",
        "        outputs = model(images)\n",
        "        loss = criterion(outputs, labels)\n",
        "\n",
        "        # backward pass\n",
        "        optimizer.zero_grad()\n",
        "        loss.backward()\n",
        "        optimizer.step()\n",
        "\n",
        "        if (i+1)%100 == 0:\n",
        "            print (f'Epoch [{epoch+1}/{num_epochs}], Step [{i+1}/{total_steps}], Loss: {loss.item():.4f}')\n",
        "            \n",
        "print(\"Finished Training\")"
      ],
      "execution_count": 8,
      "outputs": [
        {
          "output_type": "stream",
          "text": [
            "Epoch [1/4], Step [100/600], Loss: 2.3009\n",
            "Epoch [1/4], Step [200/600], Loss: 2.3005\n",
            "Epoch [1/4], Step [300/600], Loss: 2.3001\n",
            "Epoch [1/4], Step [400/600], Loss: 2.2889\n",
            "Epoch [1/4], Step [500/600], Loss: 2.2910\n",
            "Epoch [1/4], Step [600/600], Loss: 2.2757\n",
            "Epoch [2/4], Step [100/600], Loss: 2.2584\n",
            "Epoch [2/4], Step [200/600], Loss: 2.0651\n",
            "Epoch [2/4], Step [300/600], Loss: 1.5029\n",
            "Epoch [2/4], Step [400/600], Loss: 1.3025\n",
            "Epoch [2/4], Step [500/600], Loss: 0.9796\n",
            "Epoch [2/4], Step [600/600], Loss: 1.0996\n",
            "Epoch [3/4], Step [100/600], Loss: 0.9891\n",
            "Epoch [3/4], Step [200/600], Loss: 0.8545\n",
            "Epoch [3/4], Step [300/600], Loss: 0.7902\n",
            "Epoch [3/4], Step [400/600], Loss: 1.0712\n",
            "Epoch [3/4], Step [500/600], Loss: 0.8515\n",
            "Epoch [3/4], Step [600/600], Loss: 0.8236\n",
            "Epoch [4/4], Step [100/600], Loss: 0.8112\n",
            "Epoch [4/4], Step [200/600], Loss: 0.8347\n",
            "Epoch [4/4], Step [300/600], Loss: 0.7001\n",
            "Epoch [4/4], Step [400/600], Loss: 0.7787\n",
            "Epoch [4/4], Step [500/600], Loss: 0.8603\n",
            "Epoch [4/4], Step [600/600], Loss: 0.7010\n",
            "Finished Training\n"
          ],
          "name": "stdout"
        }
      ]
    },
    {
      "cell_type": "code",
      "metadata": {
        "id": "vP5biYrG8-X9",
        "colab_type": "code",
        "colab": {}
      },
      "source": [
        "torch.save(model.state_dict(), './fashion_mnist_model.pth')"
      ],
      "execution_count": 9,
      "outputs": []
    },
    {
      "cell_type": "code",
      "metadata": {
        "id": "3bwWN9rJ5Bdu",
        "colab_type": "code",
        "colab": {
          "base_uri": "https://localhost:8080/",
          "height": 34
        },
        "outputId": "03890112-b027-4761-8b23-ae0f3b55b91f"
      },
      "source": [
        "net = ConvNet()\n",
        "net.load_state_dict(torch.load('./fashion_mnist_model.pth'))"
      ],
      "execution_count": 10,
      "outputs": [
        {
          "output_type": "execute_result",
          "data": {
            "text/plain": [
              "<All keys matched successfully>"
            ]
          },
          "metadata": {
            "tags": []
          },
          "execution_count": 10
        }
      ]
    },
    {
      "cell_type": "code",
      "metadata": {
        "id": "U_abo7GI5p5b",
        "colab_type": "code",
        "colab": {
          "base_uri": "https://localhost:8080/",
          "height": 34
        },
        "outputId": "41357726-c553-437b-a546-beb4558a262b"
      },
      "source": [
        "correct = 0\n",
        "total = 0\n",
        "with torch.no_grad():\n",
        "    for images, labels in test_loader:\n",
        "        outputs = net(images)\n",
        "        _, predicted = torch.max(outputs.data, dim=1)\n",
        "        total += labels.shape[0]\n",
        "        correct += (predicted == labels).sum().item()\n",
        "\n",
        "print(f'Accuracy of the network on the 10000 test images: {100 * correct / total}')\n",
        "\n"
      ],
      "execution_count": 11,
      "outputs": [
        {
          "output_type": "stream",
          "text": [
            "Accuracy of the network on the 10000 test images: 71.03\n"
          ],
          "name": "stdout"
        }
      ]
    },
    {
      "cell_type": "code",
      "metadata": {
        "id": "icGbhAq66ZFq",
        "colab_type": "code",
        "colab": {}
      },
      "source": [
        ""
      ],
      "execution_count": 11,
      "outputs": []
    }
  ]
}