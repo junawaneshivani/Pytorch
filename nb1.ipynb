{
  "nbformat": 4,
  "nbformat_minor": 0,
  "metadata": {
    "kernelspec": {
      "display_name": "Python 3",
      "language": "python",
      "name": "python3"
    },
    "language_info": {
      "codemirror_mode": {
        "name": "ipython",
        "version": 3
      },
      "file_extension": ".py",
      "mimetype": "text/x-python",
      "name": "python",
      "nbconvert_exporter": "python",
      "pygments_lexer": "ipython3",
      "version": "3.7.7"
    },
    "colab": {
      "name": "nb1.ipynb",
      "provenance": [],
      "include_colab_link": true
    }
  },
  "cells": [
    {
      "cell_type": "markdown",
      "metadata": {
        "id": "view-in-github",
        "colab_type": "text"
      },
      "source": [
        "<a href=\"https://colab.research.google.com/github/junawaneshivani/Pytorch/blob/master/nb1.ipynb\" target=\"_parent\"><img src=\"https://colab.research.google.com/assets/colab-badge.svg\" alt=\"Open In Colab\"/></a>"
      ]
    },
    {
      "cell_type": "markdown",
      "metadata": {
        "id": "Zb_7sDYlys_i",
        "colab_type": "text"
      },
      "source": [
        "# Tensors\n",
        "- Tensors are similar to NumPy’s ndarrays, with the addition being that Tensors can also be used on a GPU to accelerate computing.\n",
        "- An uninitialized matrix is declared, but does not contain definite known values before it is used. When an uninitialized matrix is created, whatever values were in the allocated memory at the time will appear as the initial values.  "
      ]
    },
    {
      "cell_type": "code",
      "metadata": {
        "id": "rhZqYSriys_j",
        "colab_type": "code",
        "colab": {},
        "outputId": "fd134305-325b-4cb3-c113-3c1b4381716b"
      },
      "source": [
        "import torch\n",
        "\n",
        "x = torch.empty(2, 5)\n",
        "print(x)"
      ],
      "execution_count": null,
      "outputs": [
        {
          "output_type": "stream",
          "text": [
            "tensor([[0.0000e+00, 0.0000e+00, 7.7052e+31, 1.9447e+31, 5.0207e+28],\n",
            "        [2.3329e-18, 4.2330e+21, 7.2251e+28, 7.0368e+28, 3.3127e-18]])\n"
          ],
          "name": "stdout"
        }
      ]
    },
    {
      "cell_type": "code",
      "metadata": {
        "id": "hhjdKz1Eys_o",
        "colab_type": "code",
        "colab": {},
        "outputId": "715bd362-ddf8-472f-e7aa-a0de8f9ceadd"
      },
      "source": [
        "x = torch.rand(2, 5)                          # randomly initialized matrix\n",
        "print(x)"
      ],
      "execution_count": null,
      "outputs": [
        {
          "output_type": "stream",
          "text": [
            "tensor([[0.4473, 0.1796, 0.2222, 0.5205, 0.4941],\n",
            "        [0.2456, 0.4410, 0.6812, 0.3733, 0.2630]])\n"
          ],
          "name": "stdout"
        }
      ]
    },
    {
      "cell_type": "code",
      "metadata": {
        "id": "qjUF0Y48ys_r",
        "colab_type": "code",
        "colab": {},
        "outputId": "16f10df9-39c8-4961-8881-6102361fa85e"
      },
      "source": [
        "x = torch.zeros(2, 5, dtype=torch.long)       # matrix filled zeros and of dtype long\n",
        "print(x)"
      ],
      "execution_count": null,
      "outputs": [
        {
          "output_type": "stream",
          "text": [
            "tensor([[0, 0, 0, 0, 0],\n",
            "        [0, 0, 0, 0, 0]])\n"
          ],
          "name": "stdout"
        }
      ]
    },
    {
      "cell_type": "code",
      "metadata": {
        "id": "hek5AXBkys_u",
        "colab_type": "code",
        "colab": {},
        "outputId": "d8129271-6682-4008-a5bb-df0250cb7d7b"
      },
      "source": [
        "x = torch.tensor([5.5, 3])                    #tensor directly from data\n",
        "print(x)"
      ],
      "execution_count": null,
      "outputs": [
        {
          "output_type": "stream",
          "text": [
            "tensor([5.5000, 3.0000])\n"
          ],
          "name": "stdout"
        }
      ]
    },
    {
      "cell_type": "code",
      "metadata": {
        "id": "j0iLKYI4ys_x",
        "colab_type": "code",
        "colab": {},
        "outputId": "fb141f60-2b54-4dd6-b59f-c10c193ae2da"
      },
      "source": [
        "x = x.new_ones(2, 5, dtype=torch.double)      # new_* methods take in sizes\n",
        "print(x)\n",
        "\n",
        "x = torch.randn_like(x, dtype=torch.float)    # override dtype!\n",
        "print(x)                                      # result has the same size"
      ],
      "execution_count": null,
      "outputs": [
        {
          "output_type": "stream",
          "text": [
            "tensor([[1., 1., 1., 1., 1.],\n",
            "        [1., 1., 1., 1., 1.]], dtype=torch.float64)\n",
            "tensor([[-0.2385,  0.5018,  0.2543, -0.4718, -0.0944],\n",
            "        [ 0.9133,  2.2244, -0.1811, -1.8843,  0.4593]])\n"
          ],
          "name": "stdout"
        }
      ]
    },
    {
      "cell_type": "code",
      "metadata": {
        "id": "o4OZB6npys_0",
        "colab_type": "code",
        "colab": {},
        "outputId": "09273604-fcab-4332-ec69-0f546ef57d80"
      },
      "source": [
        "print(x.size())                               # torch.Size is in fact a tuple, so it supports all tuple operations"
      ],
      "execution_count": null,
      "outputs": [
        {
          "output_type": "stream",
          "text": [
            "torch.Size([2, 5])\n"
          ],
          "name": "stdout"
        }
      ]
    },
    {
      "cell_type": "code",
      "metadata": {
        "id": "pWrLn6qOys_2",
        "colab_type": "code",
        "colab": {},
        "outputId": "ac038f7d-e660-4c0f-c8ee-51ac37a420e4"
      },
      "source": [
        "y = torch.rand(2, 5)\n",
        "print(x + y)\n",
        "print(torch.add(x, y))"
      ],
      "execution_count": null,
      "outputs": [
        {
          "output_type": "stream",
          "text": [
            "tensor([[-0.1703,  0.7540,  0.8359, -0.0176,  0.6328],\n",
            "        [ 1.8758,  2.3880,  0.6430, -1.7454,  1.0498]])\n",
            "tensor([[-0.1703,  0.7540,  0.8359, -0.0176,  0.6328],\n",
            "        [ 1.8758,  2.3880,  0.6430, -1.7454,  1.0498]])\n"
          ],
          "name": "stdout"
        }
      ]
    },
    {
      "cell_type": "code",
      "metadata": {
        "id": "CZXXSwsBys_5",
        "colab_type": "code",
        "colab": {},
        "outputId": "caee4633-52fd-49d5-a9ba-28878600e7ec"
      },
      "source": [
        "result = torch.empty(5, 3)                    # providing an output tensor as argument\n",
        "torch.add(x, y, out=result)\n",
        "print(result)"
      ],
      "execution_count": null,
      "outputs": [
        {
          "output_type": "stream",
          "text": [
            "tensor([[-0.1703,  0.7540,  0.8359, -0.0176,  0.6328],\n",
            "        [ 1.8758,  2.3880,  0.6430, -1.7454,  1.0498]])\n"
          ],
          "name": "stdout"
        }
      ]
    },
    {
      "cell_type": "code",
      "metadata": {
        "id": "MxzTBWRiys_7",
        "colab_type": "code",
        "colab": {},
        "outputId": "5f43c3f2-217c-4d81-b960-6bf2ef16c1c0"
      },
      "source": [
        "y.add_(x)                                     # Any operation that mutates a tensor in-place is post-fixed with an _\n",
        "print(y)                                      # x.copy_() and x.t_()"
      ],
      "execution_count": null,
      "outputs": [
        {
          "output_type": "stream",
          "text": [
            "tensor([[-0.1703,  0.7540,  0.8359, -0.0176,  0.6328],\n",
            "        [ 1.8758,  2.3880,  0.6430, -1.7454,  1.0498]])\n"
          ],
          "name": "stdout"
        }
      ]
    },
    {
      "cell_type": "code",
      "metadata": {
        "id": "qw_V9Wd3ys_9",
        "colab_type": "code",
        "colab": {},
        "outputId": "6ddc4b21-e343-462f-c564-027833ce1421"
      },
      "source": [
        "x = torch.randn(4, 4)                         # If you want to resize/reshape tensor, you can use torch.view                     \n",
        "y = x.view(16)\n",
        "z = x.view(-1, 8)                             # the size -1 is inferred from other dimensions\n",
        "print(x.size(), y.size(), z.size())"
      ],
      "execution_count": null,
      "outputs": [
        {
          "output_type": "stream",
          "text": [
            "torch.Size([4, 4]) torch.Size([16]) torch.Size([2, 8])\n"
          ],
          "name": "stdout"
        }
      ]
    },
    {
      "cell_type": "markdown",
      "metadata": {
        "id": "_ju2Wm9Tys__",
        "colab_type": "text"
      },
      "source": [
        "**Read later:**\n",
        "100+ Tensor operations, including transposing, indexing, slicing, mathematical operations, linear algebra, random numbers, etc., are described [here](https://pytorch.org/docs/torch).\n"
      ]
    },
    {
      "cell_type": "code",
      "metadata": {
        "id": "1ZFODIjUytAA",
        "colab_type": "code",
        "colab": {},
        "outputId": "2c288c19-52c5-4059-a99b-7658849d62d4"
      },
      "source": [
        "a = x.numpy()                                 # converting to numpy array\n",
        "print(a)                                      # remember x and a are pointing ot the same memory location\n",
        "                                              # so change in one is reflected in another"
      ],
      "execution_count": null,
      "outputs": [
        {
          "output_type": "stream",
          "text": [
            "[-1.6911159]\n"
          ],
          "name": "stdout"
        }
      ]
    },
    {
      "cell_type": "code",
      "metadata": {
        "id": "Knm8k2zrytAD",
        "colab_type": "code",
        "colab": {}
      },
      "source": [
        "b = torch.from_numpy(a)                       # coverting numpy to tensor"
      ],
      "execution_count": null,
      "outputs": []
    },
    {
      "cell_type": "code",
      "metadata": {
        "id": "70GEkrC_ytAF",
        "colab_type": "code",
        "colab": {}
      },
      "source": [
        "# let us run this cell only if CUDA is available\n",
        "# We will use ``torch.device`` objects to move tensors in and out of GPU\n",
        "if torch.cuda.is_available():\n",
        "    device = torch.device(\"cuda\")             # a CUDA device object\n",
        "    y = torch.ones_like(x, device=device)     # directly create a tensor on GPU\n",
        "    x = x.to(device)                          # or just use strings ``.to(\"cuda\")``\n",
        "    z = x + y\n",
        "    print(z)\n",
        "    print(z.to(\"cpu\", torch.double))          # ``.to`` can also change dtype together!"
      ],
      "execution_count": null,
      "outputs": []
    },
    {
      "cell_type": "markdown",
      "metadata": {
        "id": "iVBWjHD3ytAH",
        "colab_type": "text"
      },
      "source": [
        "**Reference** : https://pytorch.org/tutorials/beginner/deep_learning_60min_blitz.html"
      ]
    },
    {
      "cell_type": "code",
      "metadata": {
        "id": "U6-INXj1ytAH",
        "colab_type": "code",
        "colab": {}
      },
      "source": [
        ""
      ],
      "execution_count": null,
      "outputs": []
    }
  ]
}